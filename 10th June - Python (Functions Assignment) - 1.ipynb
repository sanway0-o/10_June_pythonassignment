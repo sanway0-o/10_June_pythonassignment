{
 "cells": [
  {
   "cell_type": "markdown",
   "id": "bfc4e0ef",
   "metadata": {},
   "source": [
    " #1. An explanation of the differences between these two types along with examples of each is given below:\n",
    "\n",
    "1. **Built-in Functions:**\n",
    "   - Built-in functions are functions that are part of the Python programming language and are available for use without any additional setup or import statements.\n",
    "   - They are typically used for common operations and tasks, and Python provides a wide range of built-in functions for various purposes.\n",
    "   - Examples of built-in functions include 'print()', 'len()', 'max()', 'min()', 'str()', 'int()', and many more."
   ]
  },
  {
   "cell_type": "code",
   "execution_count": 1,
   "id": "6540363f",
   "metadata": {},
   "outputs": [
    {
     "name": "stdout",
     "output_type": "stream",
     "text": [
      "5\n"
     ]
    }
   ],
   "source": [
    "##Example of a built-in function:\n",
    "# Using the len() built-in function to get the length of a list\n",
    "my_list = [1, 2, 3, 4, 5]\n",
    "length = len(my_list)\n",
    "print(length) "
   ]
  },
  {
   "cell_type": "markdown",
   "id": "393d10ac",
   "metadata": {},
   "source": [
    "2. **User-Defined Functions:**\n",
    "   - User-defined functions are functions created by the programmer to perform a specific task or a series of tasks.\n",
    "   - They are defined using the `def` keyword followed by a function name, parameters (if any), and a block of code to execute when the function is called.\n",
    "   - User-defined functions allow us to encapsulate and reuse code, making the programs more organized and modular."
   ]
  },
  {
   "cell_type": "code",
   "execution_count": 1,
   "id": "3a022360",
   "metadata": {},
   "outputs": [
    {
     "name": "stdout",
     "output_type": "stream",
     "text": [
      "25\n"
     ]
    }
   ],
   "source": [
    "##Example of a user-defined function:\n",
    "# Defining a user-defined function to calculate the square of a number\n",
    "def square(x):\n",
    "    return x * x\n",
    "# Calling the user-defined function\n",
    "result = square(5)\n",
    "print(result)"
   ]
  },
  {
   "cell_type": "markdown",
   "id": "ace8059a",
   "metadata": {},
   "source": [
    "#2. In Python,we can pass arguments to a function in two main ways: using positional arguments and keyword arguments. These two methods allow us to provide input values to a function when you call it, but they have different ways of associating values with function parameters.\n",
    "\n",
    "1. **Positional Arguments:**\n",
    "    Positional arguments are passed to a function in the order in which the parameters are defined in the function's signature. The values you provide are matched with the parameters based on their position, and the order matters. Here's an example:"
   ]
  },
  {
   "cell_type": "code",
   "execution_count": 3,
   "id": "ba7fe82a",
   "metadata": {},
   "outputs": [
    {
     "name": "stdout",
     "output_type": "stream",
     "text": [
      "8\n"
     ]
    }
   ],
   "source": [
    "def add(a, b):\n",
    "    return a + b\n",
    "\n",
    "result = add(3, 5) \n",
    "print(result)"
   ]
  },
  {
   "cell_type": "markdown",
   "id": "279c1bd8",
   "metadata": {},
   "source": [
    "In this example, 3 is assigned to the parameter a, and 5 is assigned to the parameter b based on their positions in the function call."
   ]
  },
  {
   "cell_type": "markdown",
   "id": "e2ee7287",
   "metadata": {},
   "source": [
    "2. **Keyword Arguments:**\n",
    "    Keyword arguments are passed to a function using parameter names followed by the \"=\" sign and the values. With keyword arguments, you explicitly specify which parameter each value corresponds to, so the order doesn't matter. Here's an example:"
   ]
  },
  {
   "cell_type": "code",
   "execution_count": 5,
   "id": "34329e85",
   "metadata": {},
   "outputs": [
    {
     "name": "stdout",
     "output_type": "stream",
     "text": [
      "Hello, Alice! How are you?\n"
     ]
    }
   ],
   "source": [
    "def greet(name, message):\n",
    "    return f\"Hello, {name}! {message}\"\n",
    "\n",
    "result = greet(message=\"How are you?\", name=\"Alice\")\n",
    "print(result)"
   ]
  },
  {
   "cell_type": "markdown",
   "id": "818fc77c",
   "metadata": {},
   "source": [
    "Key differences between positional and keyword arguments:\n",
    "\n",
    "- **Order Matters:** With positional arguments, the order in which you pass values must match the order of parameters in the function definition. Keyword arguments allow you to pass values out of order.\n",
    "\n",
    "- **Readability:** Keyword arguments make your code more readable and self-explanatory because you explicitly state which value corresponds to which parameter.\n",
    "\n",
    "- **Default Values:** In Python, you can provide default values for function parameters. When you use keyword arguments, you can easily skip providing values for parameters with default values, while with positional arguments, you would need to provide values for all parameters before any with default values."
   ]
  },
  {
   "cell_type": "markdown",
   "id": "b38af5c3",
   "metadata": {},
   "source": [
    "#3. The 'return' statement in a function serves the purpose of specifying the value(s) that the function should produce as output. When a function is called and a 'return' statement is encountered, the function immediately exits, and the specified value(s) are sent back to the caller. In Python, we can think of the 'return' statement as the way a function \"gives back\" its result to the code that called it.\n",
    "\n",
    "A function can have multiple `return` statements, but only one of them will be executed during the function's execution. The `return` statement that gets executed depends on the specific condition(s) in the function. Once a `return` statement is executed, the function terminates, and control is returned to the caller.\n",
    "\n",
    "Here's an example that illustrates the use of multiple `return` statements in a function:"
   ]
  },
  {
   "cell_type": "code",
   "execution_count": 6,
   "id": "72f5bdd8",
   "metadata": {},
   "outputs": [
    {
     "name": "stdout",
     "output_type": "stream",
     "text": [
      "4 is even.\n",
      "7 is odd.\n"
     ]
    }
   ],
   "source": [
    "def check_even_odd(number):\n",
    "    if number % 2 == 0:\n",
    "        return f\"{number} is even.\"\n",
    "    else:\n",
    "        return f\"{number} is odd.\"\n",
    "\n",
    "result1 = check_even_odd(4)\n",
    "result2 = check_even_odd(7)\n",
    "\n",
    "print(result1)  # Output: \"4 is even.\"\n",
    "print(result2)  # Output: \"7 is odd.\""
   ]
  },
  {
   "cell_type": "markdown",
   "id": "2a0faf73",
   "metadata": {},
   "source": [
    "In this example, the `check_even_odd` function has two `return` statements. Depending on whether the input `number` is even or odd, one of these statements will be executed, and the corresponding message will be returned.\n",
    "\n",
    "It's important to note that once a `return` statement is executed, the function exits immediately, so any code after that statement will not be executed. In the example above, if `number` is even, the first `return` statement is executed, and if it's odd, the second `return` statement is executed. The function doesn't continue to check both conditions once one of them is satisfied."
   ]
  },
  {
   "cell_type": "markdown",
   "id": "cd20bcc6",
   "metadata": {},
   "source": [
    "#4. Lambda functions, also known as anonymous functions or lambda expressions, are a concise way to create small, anonymous functions in Python. They are defined using the `lambda` keyword and are typically used for simple operations or as arguments to higher-order functions that expect a function as input. \n",
    "    \n",
    "    \n",
    "    Lambda functions are different from regular (or named) functions in several ways:\n",
    "\n",
    "1. **Syntax:** Lambda functions use a compact syntax and are defined inline, while regular functions are defined using the `def` keyword and have a name.\n",
    "\n",
    "2. **Namelessness:** Lambda functions are often anonymous, meaning they don't have a name like regular functions. Instead, they are usually used where they are defined.\n",
    "\n",
    "3. **Simplicity:** Lambda functions are best suited for simple, one-liner operations. They are not intended for complex or multi-line logic.\n",
    "\n",
    "Here's the general syntax of a lambda function:"
   ]
  },
  {
   "cell_type": "code",
   "execution_count": 7,
   "id": "e58045f4",
   "metadata": {},
   "outputs": [
    {
     "data": {
      "text/plain": [
       "<function __main__.<lambda>(arguments)>"
      ]
     },
     "execution_count": 7,
     "metadata": {},
     "output_type": "execute_result"
    }
   ],
   "source": [
    "lambda arguments: expression"
   ]
  },
  {
   "cell_type": "markdown",
   "id": "6663e33b",
   "metadata": {},
   "source": [
    "Here's an example where a lambda function can be useful. Let's say you have a list of tuples, and you want to sort it based on the second element of each tuple:"
   ]
  },
  {
   "cell_type": "code",
   "execution_count": 1,
   "id": "c0d8c37e",
   "metadata": {},
   "outputs": [
    {
     "name": "stdout",
     "output_type": "stream",
     "text": [
      "[(4, 1), (3, 2), (1, 5), (2, 8)]\n"
     ]
    }
   ],
   "source": [
    "data = [(1, 5), (3, 2), (2, 8), (4, 1)]\n",
    "\n",
    "# Using a lambda function as the key argument in the sorted() function\n",
    "sorted_data = sorted(data, key=lambda x: x[1])\n",
    "\n",
    "print(sorted_data)"
   ]
  },
  {
   "cell_type": "markdown",
   "id": "87d86b88",
   "metadata": {},
   "source": [
    "In this example, the `lambda x: x[1]` defines a lambda function that takes a tuple x and returns its second element (`x[1]`). This lambda function is used as the `key` argument in the `sorted()` function to specify the sorting criterion. The result is a sorted list based on the second element of each tuple."
   ]
  },
  {
   "cell_type": "markdown",
   "id": "253b9364",
   "metadata": {},
   "source": [
    "#5. In Python, the concept of \"scope\" refers to the region in which a variable or name is accessible and can be used. The scope of a variable is determined by where it is defined within your code. Python has two primary types of scope: local scope and global scope.\n",
    "\n",
    "1. **Local Scope:**\n",
    "\n",
    "- Local scope refers to the innermost scope, typically within a function.\n",
    "- Variables defined within a function are considered to have local scope and are only accessible within that function.\n",
    "- Local variables are created when the function is called and are destroyed when the function exits.\n",
    "- They are not visible to code outside of the function.\n",
    "\n",
    "\n",
    "Example:"
   ]
  },
  {
   "cell_type": "code",
   "execution_count": 9,
   "id": "3582b668",
   "metadata": {},
   "outputs": [
    {
     "name": "stdout",
     "output_type": "stream",
     "text": [
      "10\n"
     ]
    },
    {
     "ename": "NameError",
     "evalue": "name 'x' is not defined",
     "output_type": "error",
     "traceback": [
      "\u001b[1;31m---------------------------------------------------------------------------\u001b[0m",
      "\u001b[1;31mNameError\u001b[0m                                 Traceback (most recent call last)",
      "Cell \u001b[1;32mIn[9], line 8\u001b[0m\n\u001b[0;32m      5\u001b[0m my_function()\n\u001b[0;32m      6\u001b[0m \u001b[38;5;66;03m# This will print 10 because 'x' is accessible within 'my_function'.\u001b[39;00m\n\u001b[1;32m----> 8\u001b[0m \u001b[38;5;28mprint\u001b[39m(x)\n",
      "\u001b[1;31mNameError\u001b[0m: name 'x' is not defined"
     ]
    }
   ],
   "source": [
    "def my_function():\n",
    "    x = 10  # 'x' is a local variable\n",
    "    print(x)\n",
    "\n",
    "my_function()\n",
    "# This will print 10 because 'x' is accessible within 'my_function'.\n",
    "\n",
    "print(x)  # This will result in an error because 'x' is not defined in the global scope."
   ]
  },
  {
   "cell_type": "markdown",
   "id": "9be08c9f",
   "metadata": {},
   "source": [
    "2. **Global Scope:**\n",
    "\n",
    "- Global scope refers to the outermost scope, typically at the top level of a Python script or module.\n",
    "- Variables defined outside of any function or block are considered to have global scope and can be accessed from any part of the code.\n",
    "- Global variables persist throughout the entire program's execution.\n",
    "\n",
    "Example:"
   ]
  },
  {
   "cell_type": "code",
   "execution_count": 10,
   "id": "f99a580c",
   "metadata": {},
   "outputs": [
    {
     "name": "stdout",
     "output_type": "stream",
     "text": [
      "20\n",
      "20\n"
     ]
    }
   ],
   "source": [
    "y = 20  # 'y' is a global variable\n",
    "\n",
    "def another_function():\n",
    "    print(y)\n",
    "\n",
    "another_function()\n",
    "# This will print 20 because 'y' is accessible in the global scope.\n",
    "\n",
    "print(y)  # This will also print 20 because 'y' is defined in the global scope."
   ]
  },
  {
   "cell_type": "markdown",
   "id": "d16b9b14",
   "metadata": {},
   "source": [
    "#6. In Python, you can use the `return` statement in a function to return multiple values by returning them as elements of a data structure, such as a tuple or a list. Here's how it can be done:\n",
    "\n",
    "1. **Using a Tuple:**\n",
    "   You can return multiple values as a tuple by separating the values with commas in the `return` statement. When the function is called, you can unpack the tuple to access the individual values.\n"
   ]
  },
  {
   "cell_type": "code",
   "execution_count": 11,
   "id": "aa50fc89",
   "metadata": {},
   "outputs": [
    {
     "name": "stdout",
     "output_type": "stream",
     "text": [
      "(10, 20, 30)\n",
      "10 20 30\n"
     ]
    }
   ],
   "source": [
    "def multiple_values():\n",
    "    a = 10\n",
    "    b = 20\n",
    "    c = 30\n",
    "    return a, b, c\n",
    "\n",
    "result = multiple_values()\n",
    "print(result)  # Output: (10, 20, 30)\n",
    "\n",
    "# Unpack the tuple to access individual values\n",
    "x, y, z = multiple_values()\n",
    "print(x, y, z)  # Output: 10 20 30"
   ]
  },
  {
   "cell_type": "markdown",
   "id": "213f2f87",
   "metadata": {},
   "source": [
    "2. **Using a List:**\n",
    "   Similar to returning a tuple, you can return multiple values as a list."
   ]
  },
  {
   "cell_type": "code",
   "execution_count": 12,
   "id": "97c236b3",
   "metadata": {},
   "outputs": [
    {
     "name": "stdout",
     "output_type": "stream",
     "text": [
      "[5, 15, 25]\n",
      "5 15 25\n"
     ]
    }
   ],
   "source": [
    "def multiple_values_as_list():\n",
    "    x = 5\n",
    "    y = 15\n",
    "    z = 25\n",
    "    return [x, y, z]\n",
    "\n",
    "result = multiple_values_as_list()\n",
    "print(result)  # Output: [5, 15, 25]\n",
    "\n",
    "# Access elements of the list\n",
    "a, b, c = multiple_values_as_list()\n",
    "print(a, b, c)  # Output: 5 15 25"
   ]
  },
  {
   "cell_type": "markdown",
   "id": "4fa77561",
   "metadata": {},
   "source": [
    "3. **Using Named Variables (as a Dictionary):**\n",
    "   You can return multiple values as named variables in a dictionary. This approach is helpful when you want to make it clear what each value represents."
   ]
  },
  {
   "cell_type": "code",
   "execution_count": 13,
   "id": "c7125125",
   "metadata": {},
   "outputs": [
    {
     "name": "stdout",
     "output_type": "stream",
     "text": [
      "{'name': 'Alice', 'age': 30, 'city': 'New York'}\n",
      "Alice 30 New York\n"
     ]
    }
   ],
   "source": [
    "def multiple_values_as_dict():\n",
    "    name = \"Alice\"\n",
    "    age = 30\n",
    "    city = \"New York\"\n",
    "    return {\"name\": name, \"age\": age, \"city\": city}\n",
    "\n",
    "result = multiple_values_as_dict()\n",
    "print(result)  # Output: {'name': 'Alice', 'age': 30, 'city': 'New York'}\n",
    "\n",
    "# Access elements using dictionary keys\n",
    "print(result[\"name\"], result[\"age\"], result[\"city\"])  # Output: Alice 30 New York"
   ]
  },
  {
   "cell_type": "markdown",
   "id": "c6f5b790",
   "metadata": {},
   "source": [
    "Using a tuple, list, or dictionary allows you to bundle multiple values together and return them as a single entity from your function. You can then unpack or access these values as needed when you receive the returned object. This is a convenient way to return and work with multiple values in Python functions."
   ]
  },
  {
   "cell_type": "markdown",
   "id": "00f2afb2",
   "metadata": {},
   "source": [
    "#7. The difference between the \"pass by value\" and \"pass by reference\" is dicussed below:--\n",
    "\n",
    "**Pass by reference –**\n",
    "\n",
    "- It is used in python, where values to the argument of the function are passed by reference which means that the address of the variable is passed and then the operation is done on the value stored at these addresses.\n",
    "\n",
    "- While calling a function, in a programming language instead of copying the values of variables, the address of the variables is used, it is known as “Pass By Reference.”\n",
    "\n",
    "- In this method, a variable itself is passed.\n",
    "\n",
    "- This method allows you to make changes in the values of variables by using function calls.\n",
    "\n",
    "- In this method, the original value is modified.\n",
    "\n",
    "**Python pass by reference example:**\n",
    "   \n",
    "   When we pass something by reference any change we make to the variable inside the function then those changes are reflected to the outside value as well."
   ]
  },
  {
   "cell_type": "code",
   "execution_count": 1,
   "id": "de32f238",
   "metadata": {},
   "outputs": [
    {
     "name": "stdout",
     "output_type": "stream",
     "text": [
      "Inside the function {'Jim': 12, 'Anna': 14, 'Preet': 10, 'Sam': 20, 'Steve': 21}\n",
      "Outside the function: {'Jim': 12, 'Anna': 14, 'Preet': 10, 'Sam': 20, 'Steve': 21}\n"
     ]
    }
   ],
   "source": [
    "student = {'Jim': 12, 'Anna': 14, 'Preet': 10}\n",
    "def test(student):\n",
    "    new = {'Sam':20, 'Steve':21}\n",
    "    student.update(new)\n",
    "    print(\"Inside the function\", student)\n",
    "    return \n",
    "test(student)\n",
    "print(\"Outside the function:\", student)"
   ]
  },
  {
   "cell_type": "markdown",
   "id": "cbe8125d",
   "metadata": {},
   "source": [
    "**Pass by value –**\n",
    "\n",
    "- It means that the value is directly passed as the value to the argument of the function. Here, the operation is done on the value and then the value is stored at the address. Pass by value is used for a copy of the variable.\n",
    "\n",
    "- While calling a function, when we pass values by copying variables, it is known as “Pass By Values.”\n",
    "\n",
    "- Here, changes made in a copy of a variable never modify the value of the variable outside the function.\n",
    "\n",
    "- This method does not allow you to make any changes in the actual variables.\n",
    "\n",
    "- Here, original value is not modified."
   ]
  },
  {
   "cell_type": "markdown",
   "id": "e958a9ed",
   "metadata": {},
   "source": [
    "**Python pass by value example -**\n",
    "\n",
    "\n",
    "When we pass something by value then the changes made to the function or copying of the variable are not reflected back to the calling function."
   ]
  },
  {
   "cell_type": "code",
   "execution_count": 3,
   "id": "6d6525d7",
   "metadata": {},
   "outputs": [
    {
     "name": "stdout",
     "output_type": "stream",
     "text": [
      "Inside the function {'Sam': 20, 'Steve': 21}\n",
      "Outside the function: {'Jim': 12, 'Anna': 14, 'Preet': 10}\n"
     ]
    }
   ],
   "source": [
    "student = {'Jim': 12, 'Anna': 14, 'Preet': 10}\n",
    "def test(student):\n",
    "    student = {'Sam':20, 'Steve':21}\n",
    "    print(\"Inside the function\", student)\n",
    "    return \n",
    "test(student)\n",
    "print(\"Outside the function:\", student)"
   ]
  },
  {
   "cell_type": "markdown",
   "id": "a138aee4",
   "metadata": {},
   "source": [
    "#8. the code is given below:"
   ]
  },
  {
   "cell_type": "code",
   "execution_count": 13,
   "id": "1229d242",
   "metadata": {},
   "outputs": [
    {
     "name": "stdout",
     "output_type": "stream",
     "text": [
      "Logarithmic function (log 5): 1.6094379124341003\n",
      "Exponential function (exp(5)): 148.4131591025766\n",
      "Power function with base 2 (2^5): 32\n",
      "Square root of 5: 2.23606797749979\n",
      "Logarithmic function (log 2.5): 0.9162907318741551\n",
      "Exponential function (exp(2.5)): 12.182493960703473\n",
      "Power function with base 2 (2^2.5): 5.656854249492381\n",
      "Square root of 2.5: 1.5811388300841898\n"
     ]
    }
   ],
   "source": [
    "import math\n",
    "\n",
    "def math_operations(x):\n",
    "    # Logarithmic function (log x)\n",
    "    log_result = math.log(x) if x > 0 else \"Undefined for x <= 0\"\n",
    "    print(f\"Logarithmic function (log {x}): {log_result}\")\n",
    "    \n",
    "    # Exponential function (exp(x))\n",
    "    exp_result = math.exp(x)\n",
    "    print(f\"Exponential function (exp({x})): {exp_result}\")\n",
    "    \n",
    "    # Power function with base 2 (2^x)\n",
    "    power_result = 2 ** x\n",
    "    print(f\"Power function with base 2 (2^{x}): {power_result}\")\n",
    "\n",
    "    # Square root\n",
    "    sqrt_result = math.sqrt(x) if x >= 0 else \"Undefined for x < 0\"\n",
    "    print(f\"Square root of {x}: {sqrt_result}\")\n",
    "\n",
    "\n",
    "results = math_operations(5)\n",
    "results2= math_operations(2.5)"
   ]
  },
  {
   "cell_type": "markdown",
   "id": "05a97e18",
   "metadata": {},
   "source": [
    "#9. the code is given below:"
   ]
  },
  {
   "cell_type": "code",
   "execution_count": 19,
   "id": "c5976a64",
   "metadata": {},
   "outputs": [
    {
     "name": "stdout",
     "output_type": "stream",
     "text": [
      "First Name: Krish\n",
      "Last Name: Naik\n"
     ]
    },
    {
     "data": {
      "text/plain": [
       "'Invalid input: Full name must contain at least a first name and a last name.'"
      ]
     },
     "execution_count": 19,
     "metadata": {},
     "output_type": "execute_result"
    }
   ],
   "source": [
    "def split_full_name(full_name):\n",
    "    # Split the full name into words based on spaces\n",
    "    name_parts = full_name.split()\n",
    "    \n",
    "    # Check if there are at least two words (first name and last name)\n",
    "    if len(name_parts) >= 2:\n",
    "        first_name = name_parts[0]\n",
    "        last_name = \" \".join(name_parts[1:])  # Join the remaining words as the last name\n",
    "        print(f\"First Name: {first_name}\")\n",
    "        print(f\"Last Name: {last_name}\")\n",
    "    else:\n",
    "        return \"Invalid input: Full name must contain at least a first name and a last name.\"\n",
    "\n",
    "# Test the function\n",
    "full_name = \"Krish Naik\"\n",
    "split_full_name(full_name)\n",
    "full_name1 = \"KrishNaik\"\n",
    "split_full_name(full_name1)"
   ]
  },
  {
   "cell_type": "code",
   "execution_count": null,
   "id": "92522b75",
   "metadata": {},
   "outputs": [],
   "source": []
  },
  {
   "cell_type": "code",
   "execution_count": null,
   "id": "db05e696",
   "metadata": {},
   "outputs": [],
   "source": []
  },
  {
   "cell_type": "code",
   "execution_count": null,
   "id": "ede5655b",
   "metadata": {},
   "outputs": [],
   "source": []
  }
 ],
 "metadata": {
  "kernelspec": {
   "display_name": "Python 3 (ipykernel)",
   "language": "python",
   "name": "python3"
  },
  "language_info": {
   "codemirror_mode": {
    "name": "ipython",
    "version": 3
   },
   "file_extension": ".py",
   "mimetype": "text/x-python",
   "name": "python",
   "nbconvert_exporter": "python",
   "pygments_lexer": "ipython3",
   "version": "3.11.3"
  }
 },
 "nbformat": 4,
 "nbformat_minor": 5
}
